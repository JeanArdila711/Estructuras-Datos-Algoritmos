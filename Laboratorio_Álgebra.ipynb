{
  "nbformat": 4,
  "nbformat_minor": 0,
  "metadata": {
    "colab": {
      "provenance": [],
      "authorship_tag": "ABX9TyPMaivjSJteZ4b8ZLRSCasT",
      "include_colab_link": true
    },
    "kernelspec": {
      "name": "python3",
      "display_name": "Python 3"
    },
    "language_info": {
      "name": "python"
    }
  },
  "cells": [
    {
      "cell_type": "markdown",
      "metadata": {
        "id": "view-in-github",
        "colab_type": "text"
      },
      "source": [
        "<a href=\"https://colab.research.google.com/github/JeanArdila711/Estructuras-Datos-Algoritmos/blob/main/Laboratorio_%C3%81lgebra.ipynb\" target=\"_parent\"><img src=\"https://colab.research.google.com/assets/colab-badge.svg\" alt=\"Open In Colab\"/></a>"
      ]
    },
    {
      "cell_type": "markdown",
      "source": [
        "# Ejercicio 1"
      ],
      "metadata": {
        "id": "iGqxE0PrcFV9"
      }
    },
    {
      "cell_type": "code",
      "source": [
        "import numpy as np\n",
        "\n",
        "# Creación de vectores u, v, w, z\n",
        "u = np.array([10, 3, 70])\n",
        "\n",
        "v = np.array([0, -79, -12])\n",
        "\n",
        "w = np.array([25, 56, 2827])\n",
        "\n",
        "z = np.array([-10, 0, 58])\n",
        "\n",
        "\n",
        "# Solución a\n",
        "# Operacion u . z + w . (3v)\n",
        "\n",
        "a = u @ z + w @ (3*v)\n",
        "print('a = ', a)\n",
        "\n",
        "# b). Operación (u + z -v).(z - 3w + v)\n",
        "\n",
        "b = (u + z -v) @ (z - 3*w + v)\n",
        "print('b = ', b)\n",
        "\n",
        "# c). Operación ||z - w|| - ||w + u||\n",
        "\n",
        "c = np.linalg.norm(z - w) - np.linalg.norm(w + u)\n",
        "print('c = ', c)\n",
        "\n",
        "# d). Operacion ||u||(v-z) + ||2z -3w||z\n",
        "\n",
        "d = np.linalg.norm(u)*(v-z) + np.linalg.norm(2*z - 3*w)*z\n",
        "print('d =', d)"
      ],
      "metadata": {
        "colab": {
          "base_uri": "https://localhost:8080/"
        },
        "id": "W-Z6w0BQcJR0",
        "outputId": "f5dab7ea-af9f-4b5b-d3c9-8b94a785c8a1"
      },
      "execution_count": 1,
      "outputs": [
        {
          "output_type": "stream",
          "name": "stdout",
          "text": [
            "a =  -111084\n",
            "b =  -1201154\n",
            "c =  -128.02474925112392\n",
            "d = [-82964.51894034  -5591.16884023 480344.91838455]\n"
          ]
        }
      ]
    },
    {
      "cell_type": "markdown",
      "source": [
        "# Ejercicio 2\n"
      ],
      "metadata": {
        "id": "JAkwcdLScO-v"
      }
    },
    {
      "cell_type": "code",
      "source": [
        "import numpy as np\n",
        "import matplotlib.pyplot as plt\n",
        "\n",
        "# Definir los vectores y la matriz\n",
        "u = np.array([1, -10])\n",
        "v = np.array([-2, 4])\n",
        "a = np.array([[0, -1], [1, 0]])\n",
        "\n",
        "# Calcular p (proyección de v sobre u)\n",
        "p = (np.dot(v, u) / np.dot(u, u)) * u\n",
        "\n",
        "# Calcular h (componente ortogonal)\n",
        "h = v - p\n",
        "\n",
        "# Calcular z = a * u (rotación de u)\n",
        "z = np.dot(a, u)\n",
        "\n",
        "# Crear el gráfico de los vectores p, h y v\n",
        "plt.figure(figsize=(8, 8))\n",
        "plt.quiver(0, 0, v[0], v[1], angles='xy', scale_units='xy', scale=1, color='r', label='v')\n",
        "plt.quiver(0, 0, p[0], p[1], angles='xy', scale_units='xy', scale=1, color='b', label='p')\n",
        "plt.quiver(0, 0, h[0], h[1], angles='xy', scale_units='xy', scale=1, color='g', label='h')\n",
        "\n",
        "# Configuraciones del gráfico\n",
        "plt.xlim(-15, 15)\n",
        "plt.ylim(-15, 15)\n",
        "plt.axhline(0, color='black',linewidth=0.5)\n",
        "plt.axvline(0, color='black',linewidth=0.5)\n",
        "plt.grid()\n",
        "plt.legend()\n",
        "plt.gca().set_aspect('equal', adjustable='box')\n",
        "plt.title('Descomposición de v en p (paralelo a u) y h (ortogonal a u)')\n",
        "\n",
        "# Mostrar gráfico de p, h y v\n",
        "plt.show()\n",
        "\n",
        "# Crear el gráfico de los vectores u y z\n",
        "plt.figure(figsize=(8, 8))\n",
        "plt.quiver(0, 0, u[0], u[1], angles='xy', scale_units='xy', scale=1, color='r', label='u')\n",
        "plt.quiver(0, 0, z[0], z[1], angles='xy', scale_units='xy', scale=1, color='b', label='z')\n",
        "\n",
        "# Configuraciones del gráfico\n",
        "plt.xlim(-15, 15)\n",
        "plt.ylim(-15, 15)\n",
        "plt.axhline(0, color='black',linewidth=0.5)\n",
        "plt.axvline(0, color='black',linewidth=0.5)\n",
        "plt.grid()\n",
        "plt.legend()\n",
        "plt.gca().set_aspect('equal', adjustable='box')\n",
        "plt.title('Gráfico de u y z = a*u (rotación de u)')\n",
        "\n",
        "# Mostrar gráfico de u y z\n",
        "plt.show()"
      ],
      "metadata": {
        "colab": {
          "base_uri": "https://localhost:8080/",
          "height": 1000
        },
        "id": "j2FoAJVEcQ29",
        "outputId": "98d22065-4df7-49a8-9472-cc95f33089c8"
      },
      "execution_count": 2,
      "outputs": [
        {
          "output_type": "display_data",
          "data": {
            "text/plain": [
              "<Figure size 800x800 with 1 Axes>"
            ],
            "image/png": "[encoded data removed]"
          },
          "metadata": {}
        },
        {
          "output_type": "display_data",
          "data": {
            "text/plain": [
              "<Figure size 800x800 with 1 Axes>"
            ],
            "image/png": "[encoded data removed]"
          },
          "metadata": {}
        }
      ]
    },
    {
      "cell_type": "markdown",
      "source": [
        "En el primer gráfico, observamos una descomposición vectorial en la que el vector 𝑣. V se expresa como la suma de un vector paralelo y otro ortogonal a 𝑢.\n",
        "En el segundo gráfico, observamos cómo una rotación transforma un vector en otro que es perpendicular al original sin alterar su longitud."
      ],
      "metadata": {
        "id": "AxHnDulqctic"
      }
    },
    {
      "cell_type": "markdown",
      "source": [
        "# Ejercicio 3"
      ],
      "metadata": {
        "id": "Ge9zny25c-dI"
      }
    },
    {
      "cell_type": "code",
      "source": [
        "import numpy as np\n",
        "\n",
        "A=np.array([[1, 2, 4, 5, -2],\n",
        "   [-4, -4, 3, 6, 0],\n",
        "   [5, 6, 7, 8, 1],\n",
        "   [13, 0, -30, 3, 3]])\n",
        "\n",
        "B=np.array([[2, 5, 0, 15, -1],\n",
        "   [7, 3, 8, -20, 0],\n",
        "   [3, 0, 1, 0, 10],\n",
        "   [4, -5, 2, 10, 9]])\n",
        "\n",
        "C=np.array([[5, -8, 0, 20, 1],\n",
        "   [2, -4, -3, 5, 2],\n",
        "   [-5, 0, 4, 50, 24],\n",
        "   [0, 90, -5, 3, 4]])\n",
        "\n",
        "def primeraEcuacion(A, B, C):\n",
        "    resultado=(-3*A+C-B)/2\n",
        "    return resultado\n",
        "\n",
        "def segundaEcuacion(A, B, C):\n",
        "    resultado=(B+2*C-6*A)/2\n",
        "    return resultado\n",
        "\n",
        "resultado1 = primeraEcuacion(A, B, C)\n",
        "resultado2 = segundaEcuacion(A, B, C)\n",
        "\n",
        "print(\"resultado primera ecuacion =\\n\", resultado1)\n",
        "print(\"resultado segunda ecuacion =\\n\", resultado2)"
      ],
      "metadata": {
        "colab": {
          "base_uri": "https://localhost:8080/"
        },
        "id": "s0t3vOL_dAOq",
        "outputId": "9ecd12bb-655c-4476-9ea1-c02951248e1a"
      },
      "execution_count": 3,
      "outputs": [
        {
          "output_type": "stream",
          "name": "stdout",
          "text": [
            "resultado primera ecuacion =\n",
            " [[  0.   -9.5  -6.   -5.    4. ]\n",
            " [  3.5   2.5 -10.    3.5   1. ]\n",
            " [-11.5  -9.   -9.   13.    5.5]\n",
            " [-21.5  47.5  41.5  -8.   -7. ]]\n",
            "resultado segunda ecuacion =\n",
            " [[  3.  -11.5 -12.   12.5   6.5]\n",
            " [ 17.5   9.5  -8.  -23.    2. ]\n",
            " [-18.5 -18.  -16.5  26.   26. ]\n",
            " [-37.   87.5  86.   -1.   -0.5]]\n"
          ]
        }
      ]
    },
    {
      "cell_type": "markdown",
      "source": [
        "# Ejercicio 4"
      ],
      "metadata": {
        "id": "UmXdsNBQdjF4"
      }
    },
    {
      "cell_type": "code",
      "source": [
        "import numpy as np\n",
        "\n",
        "# Matriz de coeficientes\n",
        "A = np.array([\n",
        "    [40**2, 40, 1],\n",
        "    [60**2, 60, 1],\n",
        "    [110**2, 110, 1]\n",
        "])\n",
        "\n",
        "# Vector de resultados\n",
        "B = np.array([20000, 24000, 16500])\n",
        "\n",
        "# Resolver el sistema de ecuaciones\n",
        "coeficientes = np.linalg.solve(A, B)\n",
        "\n",
        "# Imprimir los coeficientes a, b y c\n",
        "a, b, c = coeficientes\n",
        "print(f\"Coeficiente a: {a}\")\n",
        "print(f\"Coeficiente b: {b}\")\n",
        "print(f\"Coeficiente c: {c}\")\n",
        "\n",
        "# (b) Calcular los kilos de almendros para x = 50\n",
        "x = 50\n",
        "y = a*x**2 + b*x + c\n",
        "print(f\"Los kilos de almendros esperados para 50 almendros son: {y}\")\n"
      ],
      "metadata": {
        "colab": {
          "base_uri": "https://localhost:8080/"
        },
        "id": "5PBqyCUGdkpX",
        "outputId": "13e247d2-fbcc-40a9-9d79-70a242a97496"
      },
      "execution_count": 5,
      "outputs": [
        {
          "output_type": "stream",
          "name": "stdout",
          "text": [
            "Coeficiente a: -5.0\n",
            "Coeficiente b: 700.0\n",
            "Coeficiente c: 0.0\n",
            "Los kilos de almendros esperados para 50 almendros son: 22500.0\n"
          ]
        }
      ]
    },
    {
      "cell_type": "markdown",
      "source": [
        "# Ejercicio 5"
      ],
      "metadata": {
        "id": "fg9m6zNXdvSl"
      }
    },
    {
      "cell_type": "code",
      "source": [
        "max_iter = 1000\n",
        "\n",
        "\n",
        "t1, t2, t3, t4, t5, t6 = 0, 0, 0, 0, 0, 0\n",
        "\n",
        "\n",
        "for i in range(max_iter):\n",
        "    t1_new = (20 + 0 + t2 + t4) / 4\n",
        "    t2_new = (20 + t1 + t3 + t5) / 4\n",
        "    t3_new = (20 + 15 + t6 + t2) / 4\n",
        "    t4_new = (0 + 0 + t1 + t5) / 4\n",
        "    t5_new = (t4 + t2 + t6 + 0) / 4\n",
        "    t6_new = (15 + 0 + t5 + t3) / 4\n",
        "\n",
        "\n",
        "    t1, t2, t3, t4, t5, t6 = t1_new, t2_new, t3_new, t4_new, t5_new, t6_new\n",
        "\n",
        "\n",
        "def imprimir_nombres_temperaturas(t1, t2, t3, t4, t5, t6):\n",
        "    temperaturas = {\n",
        "        't1': t1,\n",
        "        't2': t2,\n",
        "        't3': t3,\n",
        "        't4': t4,\n",
        "        't5': t5,\n",
        "        't6': t6\n",
        "    }\n",
        "\n",
        "\n",
        "    temp_min_nombre = min(temperaturas, key=temperaturas.get)\n",
        "    temp_max_nombre = max(temperaturas, key=temperaturas.get)\n",
        "\n",
        "\n",
        "    print(f\"La variable con la temperatura menor es: {temp_min_nombre}\")\n",
        "    print(f\"La variable con la temperatura mayor es: {temp_max_nombre}\")\n",
        "\n",
        "print(f\"t1 = {t1:.2f}\")\n",
        "print(f\"t2 = {t2:.2f}\")\n",
        "print(f\"t3 = {t3:.2f}\")\n",
        "print(f\"t4 = {t4:.2f}\")\n",
        "print(f\"t5 = {t5:.2f}\")\n",
        "print(f\"t6 = {t6:.2f}\")\n",
        "\n",
        "\n",
        "imprimir_nombres_temperaturas(t1, t2, t3, t4, t5, t6)"
      ],
      "metadata": {
        "colab": {
          "base_uri": "https://localhost:8080/"
        },
        "id": "u0-yhfm0dw0i",
        "outputId": "ac5fcf52-ee3b-4270-acaa-a9546b594ca2"
      },
      "execution_count": 6,
      "outputs": [
        {
          "output_type": "stream",
          "name": "stdout",
          "text": [
            "t1 = 9.04\n",
            "t2 = 12.33\n",
            "t3 = 14.04\n",
            "t4 = 3.82\n",
            "t5 = 6.24\n",
            "t6 = 8.82\n",
            "La variable con la temperatura menor es: t4\n",
            "La variable con la temperatura mayor es: t3\n"
          ]
        }
      ]
    }
  ]
}